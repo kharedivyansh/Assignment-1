{
 "cells": [
  {
   "cell_type": "markdown",
   "id": "2cb87b60",
   "metadata": {},
   "source": [
    "question -1: Declare two variables and swap there values without use of any other value "
   ]
  },
  {
   "cell_type": "code",
   "execution_count": 3,
   "id": "1d50e582",
   "metadata": {},
   "outputs": [
    {
     "name": "stdout",
     "output_type": "stream",
     "text": [
      "Before swapping:\n",
      "x = 5\n",
      "y = 8\n",
      "After swapping:\n",
      "x = 8\n",
      "y = 5\n"
     ]
    }
   ],
   "source": [
    "# Initialize variables\n",
    "x = 5\n",
    "y = 8\n",
    "\n",
    "# Display initial values\n",
    "print(\"Before swapping:\")\n",
    "print(\"x =\", x) # x = 5\n",
    "print(\"y =\", y) # y = 8\n",
    "\n",
    "# Perform the swap without a temporary variable\n",
    "x = x + y # x= 5+8 , x =13\n",
    "y = x - y # y = 13-8 , y = 5\n",
    "x = x - y # 13-5 , x = 8\n",
    "\n",
    "# Display swapped values\n",
    "print(\"After swapping:\")\n",
    "print(\"x =\", x) # x = 8\n",
    "print(\"y =\", y) # y = 5\n"
   ]
  },
  {
   "cell_type": "markdown",
   "id": "3e03b614",
   "metadata": {},
   "source": [
    "question -2 : creating a program that calculates area of rectangle"
   ]
  },
  {
   "cell_type": "code",
   "execution_count": 4,
   "id": "0105fca0",
   "metadata": {},
   "outputs": [
    {
     "name": "stdout",
     "output_type": "stream",
     "text": [
      "Enter the length of the rectangle: 5\n",
      "Enter the width of the rectangle: 4\n",
      "The area of the rectangle is: 20.0\n"
     ]
    }
   ],
   "source": [
    "# Taking user inputs for length and width\n",
    "length = float(input(\"Enter the length of the rectangle: \")) #for example we have taken 5\n",
    "width = float(input(\"Enter the width of the rectangle: \")) # for example we have taken 4\n",
    "\n",
    "# Calculating the area of the rectangle\n",
    "area = length * width # area = 20\n",
    "\n",
    "# Displaying the calculated area\n",
    "print(\"The area of the rectangle is:\", area)\n"
   ]
  },
  {
   "cell_type": "markdown",
   "id": "3ba764b1",
   "metadata": {},
   "source": [
    "question -3: program that converts temperatures from Celsius to Fahrenheit."
   ]
  },
  {
   "cell_type": "code",
   "execution_count": 5,
   "id": "5b72ee48",
   "metadata": {},
   "outputs": [
    {
     "name": "stdout",
     "output_type": "stream",
     "text": [
      "Enter temperature in Celsius: 64\n",
      "Temperature in Fahrenheit: 147.2\n"
     ]
    }
   ],
   "source": [
    "# Taking user input for temperature in Celsius\n",
    "celsius = float(input(\"Enter temperature in Celsius: \")) # for example we have taken 64 as celsius\n",
    "\n",
    "# Conversion formula: Celsius to Fahrenheit\n",
    "fahrenheit = (celsius * 9/5) + 32 # 147.2\n",
    "\n",
    "# Displaying the converted temperature in Fahrenheit\n",
    "print(\"Temperature in Fahrenheit:\", fahrenheit)\n"
   ]
  },
  {
   "cell_type": "markdown",
   "id": "4f1899bf",
   "metadata": {},
   "source": [
    "Topic - STRING"
   ]
  },
  {
   "cell_type": "markdown",
   "id": "6055b3fa",
   "metadata": {},
   "source": [
    "question -1: Write a Python program that takes a string as input and prints the length of the string."
   ]
  },
  {
   "cell_type": "code",
   "execution_count": 6,
   "id": "f2f97af5",
   "metadata": {},
   "outputs": [
    {
     "name": "stdout",
     "output_type": "stream",
     "text": [
      "Enter a string: harry potter\n",
      "Length of the string: 12\n"
     ]
    }
   ],
   "source": [
    "# Taking user input for a string\n",
    "input_string = input(\"Enter a string: \")\n",
    "\n",
    "# Calculating the length of the string\n",
    "length = len(input_string)\n",
    "\n",
    "# Displaying the length of the string\n",
    "print(\"Length of the string:\", length)\n"
   ]
  },
  {
   "cell_type": "markdown",
   "id": "510a62b3",
   "metadata": {},
   "source": [
    "question -2: Create a program that takes a sentence from the user and counts the number of vowels (a, e, i, o, u) in the string."
   ]
  },
  {
   "cell_type": "code",
   "execution_count": 11,
   "id": "f90617ca",
   "metadata": {},
   "outputs": [
    {
     "name": "stdout",
     "output_type": "stream",
     "text": [
      "enter the string: \n",
      "harry potter\n",
      "the number of vowels in string is:  3\n"
     ]
    }
   ],
   "source": [
    "def Count_vowels(input_string): # we have created a function here that is Count_vowels\n",
    "    vowels = 'aeiou' # these are the vowels in dictionary of english.\n",
    "    vowels_count = 0 # initially the count of vowels is zero , we will add as we get vowel in each iteration.\n",
    "    \n",
    "    for char in input_string: # here we have started a loop that will iterate over all the sentence and search for vowel.\n",
    "        if char in vowels: # if condition ensures that if vowel is found then it will increase the count of vowels by 1.\n",
    "            vowels_count += 1\n",
    "        \n",
    "    return vowels_count\n",
    "\n",
    "print(\"enter the string: \")\n",
    "a = input()\n",
    "result = Count_vowels(a)\n",
    "print(\"the number of vowels in string is: \",result)\n"
   ]
  },
  {
   "cell_type": "markdown",
   "id": "3dd7ad00",
   "metadata": {},
   "source": [
    "question -3: Given a string, reverse the order of characters using string slicing and print the reversed string."
   ]
  },
  {
   "cell_type": "code",
   "execution_count": 12,
   "id": "faf35655",
   "metadata": {},
   "outputs": [
    {
     "name": "stdout",
     "output_type": "stream",
     "text": [
      "enter the string: harry potter\n",
      "the reversed string is:  rettop yrrah\n"
     ]
    }
   ],
   "source": [
    "def Reversed_string (string): # created a function\n",
    "\n",
    " reversedstring = string[ : :-1] # reversedstring stores reverse order of string.\n",
    " return reversedstring\n",
    "\n",
    "a = input(\"enter the string: \")\n",
    "result = Reversed_string(a)\n",
    "print(\"the reversed string is: \",result)"
   ]
  },
  {
   "cell_type": "markdown",
   "id": "b6995464",
   "metadata": {},
   "source": [
    "question -4: Write a program that takes a string as input and checks if it is a palindrome (reads the same forwards and backwards)."
   ]
  },
  {
   "cell_type": "code",
   "execution_count": 13,
   "id": "801752aa",
   "metadata": {},
   "outputs": [],
   "source": [
    "#A palindrome is a word that reads same from forward and backward, ex - mom"
   ]
  },
  {
   "cell_type": "code",
   "execution_count": 18,
   "id": "440ff711",
   "metadata": {},
   "outputs": [
    {
     "name": "stdout",
     "output_type": "stream",
     "text": [
      "enter the string: \n",
      "mom\n",
      "It is a palindrome\n"
     ]
    }
   ],
   "source": [
    "def Palindrome_check(string): # we created a function.\n",
    "    if string == string[: :-1]: #logic is if reverse of string is equal to string then it is palindrome\n",
    "        print(\"It is a palindrome\")\n",
    "    else:\n",
    "        print(\"It is not a palindrome\")\n",
    "        \n",
    "print(\"enter the string: \")\n",
    "a = input()\n",
    "Palindrome_check(a)\n",
    "        "
   ]
  },
  {
   "cell_type": "markdown",
   "id": "99f59be2",
   "metadata": {},
   "source": [
    "question - 5: Create a program that takes a string as input and removes all the spaces from it. Print the modified string without spaces."
   ]
  },
  {
   "cell_type": "code",
   "execution_count": 21,
   "id": "3db6a08b",
   "metadata": {},
   "outputs": [
    {
     "name": "stdout",
     "output_type": "stream",
     "text": [
      "Enter a string: harry potter\n",
      "Modified string: harrypotter\n"
     ]
    }
   ],
   "source": [
    "# Taking user input for a string\n",
    "input_string = input(\"Enter a string: \")\n",
    "\n",
    "# Removing spaces from the string\n",
    "modified_string = input_string.replace(\" \", \"\") # replace function is used which helps in replacing words or spaces\n",
    "\n",
    "# Displaying the modified string without spaces\n",
    "print(\"Modified string:\", modified_string)\n"
   ]
  }
 ],
 "metadata": {
  "kernelspec": {
   "display_name": "Python 3 (ipykernel)",
   "language": "python",
   "name": "python3"
  },
  "language_info": {
   "codemirror_mode": {
    "name": "ipython",
    "version": 3
   },
   "file_extension": ".py",
   "mimetype": "text/x-python",
   "name": "python",
   "nbconvert_exporter": "python",
   "pygments_lexer": "ipython3",
   "version": "3.9.13"
  }
 },
 "nbformat": 4,
 "nbformat_minor": 5
}
